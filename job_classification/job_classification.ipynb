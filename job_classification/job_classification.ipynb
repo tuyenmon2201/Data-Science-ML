{
 "cells": [
  {
   "cell_type": "code",
   "execution_count": null,
   "id": "016d47a6",
   "metadata": {},
   "outputs": [
    {
     "name": "stdout",
     "output_type": "stream",
     "text": [
      "(6459, 759408)\n"
     ]
    }
   ],
   "source": [
    "import pandas as pd\n",
    "from sklearn.model_selection import train_test_split\n",
    "from sklearn.feature_extraction.text import TfidfVectorizer\n",
    "from sklearn.preprocessing import OneHotEncoder\n",
    "import re\n",
    "\n",
    "def filter_location(location):\n",
    "    result = re.findall(\"\\,\\s[A-Z]{2}$\", location)\n",
    "    if len(result) > 0:\n",
    "        return result[0][2:]\n",
    "    else:\n",
    "        return location\n",
    "    \n",
    "\n",
    "data = pd.read_excel(\"../datasets/final_project.ods\", engine=\"odf\", dtype=str)\n",
    "# print(data.info())  # xem co cot bi khuyet khong\n",
    "data.dropna(axis=0) # bo di o bi khuyet\n",
    "data[\"location\"] = data[\"location\"].apply(filter_location)\n",
    "\n",
    "#Step1: Divide data\n",
    "target = \"career_level\"\n",
    "x = data.drop(target, axis=1)\n",
    "y = data[target]\n",
    "# print(y.value_counts())\n",
    "# print(\"--------------------\")\n",
    "\n",
    "x_train, x_test, y_train, y_test = train_test_split(x, y, test_size=0.2, random_state=2201, stratify=y) # stratify: phan chia dong deu cho tung class\n",
    "# print(y_train.value_counts())\n",
    "\n",
    "#Step2: Data preprocessing\n",
    "# Preprocessing for \"title\" column\n",
    "# vectorizer = TfidfVectorizer()\n",
    "# output = vectorizer.fit_transform(x_train[\"title\"])\n",
    "# output = pd.DataFrame.sparse.from_spmatrix(output)\n",
    "# print(vectorizer.vocabulary_)\n",
    "# print(len(vectorizer.vocabulary_))\n",
    "# print(output.shape)\n",
    "\n",
    "# Preprocessing for \"location\" column\n",
    "# encoder = OneHotEncoder()\n",
    "# output = encoder.fit_transform(x_train[[\"location\"]])\n",
    "# print(output.shape)\n",
    "\n",
    "x_train[\"description\"] = x_train[\"description\"].fillna(\"\")\n",
    "vectorizer = TfidfVectorizer(ngram_range=(1,2))\n",
    "output = vectorizer.fit_transform(x_train[\"description\"])\n",
    "print(output.shape)\n",
    "# Only unigram: (6459, 67690)\n",
    "# Unigram and Bigram: (6459, 759408)\n",
    "\n",
    "\n"
   ]
  }
 ],
 "metadata": {
  "kernelspec": {
   "display_name": "job_classification",
   "language": "python",
   "name": "python3"
  },
  "language_info": {
   "codemirror_mode": {
    "name": "ipython",
    "version": 3
   },
   "file_extension": ".py",
   "mimetype": "text/x-python",
   "name": "python",
   "nbconvert_exporter": "python",
   "pygments_lexer": "ipython3",
   "version": "3.11.11"
  }
 },
 "nbformat": 4,
 "nbformat_minor": 5
}
